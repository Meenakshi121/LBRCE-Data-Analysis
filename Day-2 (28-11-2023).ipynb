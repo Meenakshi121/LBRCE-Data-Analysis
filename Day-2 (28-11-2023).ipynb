{
 "cells": [
  {
   "cell_type": "markdown",
   "id": "0b038819",
   "metadata": {},
   "source": [
    "### Tuple\n",
    "\n",
    "* Tuple is a collection of objects\n",
    "* Tuple uses parenthesis\n",
    "* Tuple is immutable i.e not changeable\n",
    "* Iterating through tuple is fast when compared with the list"
   ]
  },
  {
   "cell_type": "code",
   "execution_count": 1,
   "id": "dfc4b521",
   "metadata": {},
   "outputs": [
    {
     "name": "stdout",
     "output_type": "stream",
     "text": [
      "(12, 'hello', 90.8)\n",
      "<class 'tuple'>\n"
     ]
    }
   ],
   "source": [
    "# Creating a tuple\n",
    "\n",
    "t=(12,\"hello\",90.8)  # different data types\n",
    "print(t)\n",
    "print(type(t))"
   ]
  },
  {
   "cell_type": "code",
   "execution_count": 2,
   "id": "dece0480",
   "metadata": {},
   "outputs": [
    {
     "data": {
      "text/plain": [
       "(10, 20, 30, 40)"
      ]
     },
     "execution_count": 2,
     "metadata": {},
     "output_type": "execute_result"
    }
   ],
   "source": [
    "t=(10,20,30,40)\n",
    "#    0  1  2  3   # forward indexing\n",
    "#  -4 -3 -2 -1   # backward indexing"
   ]
  },
  {
   "cell_type": "code",
   "execution_count": 3,
   "id": "04a79d3e",
   "metadata": {},
   "outputs": [
    {
     "data": {
      "text/plain": [
       "30"
      ]
     },
     "execution_count": 3,
     "metadata": {},
     "output_type": "execute_result"
    }
   ],
   "source": [
    "t[2]"
   ]
  },
  {
   "cell_type": "code",
   "execution_count": 4,
   "id": "f7321a5d",
   "metadata": {},
   "outputs": [
    {
     "data": {
      "text/plain": [
       "30"
      ]
     },
     "execution_count": 4,
     "metadata": {},
     "output_type": "execute_result"
    }
   ],
   "source": [
    "t[-2]"
   ]
  },
  {
   "cell_type": "code",
   "execution_count": 5,
   "id": "3e87681b",
   "metadata": {},
   "outputs": [
    {
     "name": "stdout",
     "output_type": "stream",
     "text": [
      "20\n"
     ]
    }
   ],
   "source": [
    "print(t[1])"
   ]
  },
  {
   "cell_type": "code",
   "execution_count": 6,
   "id": "93bfbb60",
   "metadata": {},
   "outputs": [
    {
     "name": "stdout",
     "output_type": "stream",
     "text": [
      "(40, 30, 20, 10)\n"
     ]
    }
   ],
   "source": [
    "print(t[::-1])"
   ]
  },
  {
   "cell_type": "code",
   "execution_count": 7,
   "id": "8df15521",
   "metadata": {},
   "outputs": [
    {
     "data": {
      "text/plain": [
       "(10, 30)"
      ]
     },
     "execution_count": 7,
     "metadata": {},
     "output_type": "execute_result"
    }
   ],
   "source": [
    "# slicing  [start:end:step]\n",
    "\n",
    "t[::2]"
   ]
  },
  {
   "cell_type": "code",
   "execution_count": 8,
   "id": "2c405a0f",
   "metadata": {},
   "outputs": [
    {
     "data": {
      "text/plain": [
       "(20, 40)"
      ]
     },
     "execution_count": 8,
     "metadata": {},
     "output_type": "execute_result"
    }
   ],
   "source": [
    "t[1::2]"
   ]
  },
  {
   "cell_type": "code",
   "execution_count": 10,
   "id": "ad172775",
   "metadata": {
    "collapsed": true
   },
   "outputs": [
    {
     "ename": "TypeError",
     "evalue": "'tuple' object does not support item assignment",
     "output_type": "error",
     "traceback": [
      "\u001b[1;31m---------------------------------------------------------------------------\u001b[0m",
      "\u001b[1;31mTypeError\u001b[0m                                 Traceback (most recent call last)",
      "\u001b[1;32m~\\AppData\\Local\\Temp\\ipykernel_18216\\2290479325.py\u001b[0m in \u001b[0;36m<module>\u001b[1;34m\u001b[0m\n\u001b[0;32m      1\u001b[0m \u001b[1;31m# tuple is immutable\u001b[0m\u001b[1;33m\u001b[0m\u001b[1;33m\u001b[0m\u001b[0m\n\u001b[0;32m      2\u001b[0m \u001b[1;33m\u001b[0m\u001b[0m\n\u001b[1;32m----> 3\u001b[1;33m \u001b[0mt\u001b[0m\u001b[1;33m[\u001b[0m\u001b[1;36m2\u001b[0m\u001b[1;33m]\u001b[0m\u001b[1;33m=\u001b[0m\u001b[1;36m2000\u001b[0m\u001b[1;33m\u001b[0m\u001b[1;33m\u001b[0m\u001b[0m\n\u001b[0m",
      "\u001b[1;31mTypeError\u001b[0m: 'tuple' object does not support item assignment"
     ]
    }
   ],
   "source": [
    "# tuple is immutable\n",
    "\n",
    "t[2]=2000"
   ]
  },
  {
   "cell_type": "code",
   "execution_count": 14,
   "id": "cd2c7e6e",
   "metadata": {},
   "outputs": [
    {
     "name": "stdout",
     "output_type": "stream",
     "text": [
      "<class 'int'>\n"
     ]
    }
   ],
   "source": [
    "# creating tuple with a single value \n",
    "\n",
    "t=(90)\n",
    "print(type(t))"
   ]
  },
  {
   "cell_type": "code",
   "execution_count": 15,
   "id": "38985780",
   "metadata": {},
   "outputs": [
    {
     "name": "stdout",
     "output_type": "stream",
     "text": [
      "<class 'tuple'>\n"
     ]
    }
   ],
   "source": [
    "t=(90,)\n",
    "print(type(t))"
   ]
  },
  {
   "cell_type": "code",
   "execution_count": 21,
   "id": "b1e3716c",
   "metadata": {},
   "outputs": [
    {
     "name": "stdout",
     "output_type": "stream",
     "text": [
      "<class 'tuple'>\n",
      "(10, 20, 30)\n",
      "10\n",
      "20\n",
      "30\n"
     ]
    }
   ],
   "source": [
    "# tuple packing\n",
    "\n",
    "t=10,20,30\n",
    "print(type(t))\n",
    "print(t)\n",
    "x,y,z=t  # tuple packing\n",
    "print(x)\n",
    "print(y)\n",
    "print(z)"
   ]
  },
  {
   "cell_type": "code",
   "execution_count": 22,
   "id": "743cf002",
   "metadata": {
    "collapsed": true
   },
   "outputs": [
    {
     "data": {
      "text/plain": [
       "['__add__',\n",
       " '__class__',\n",
       " '__class_getitem__',\n",
       " '__contains__',\n",
       " '__delattr__',\n",
       " '__dir__',\n",
       " '__doc__',\n",
       " '__eq__',\n",
       " '__format__',\n",
       " '__ge__',\n",
       " '__getattribute__',\n",
       " '__getitem__',\n",
       " '__getnewargs__',\n",
       " '__gt__',\n",
       " '__hash__',\n",
       " '__init__',\n",
       " '__init_subclass__',\n",
       " '__iter__',\n",
       " '__le__',\n",
       " '__len__',\n",
       " '__lt__',\n",
       " '__mul__',\n",
       " '__ne__',\n",
       " '__new__',\n",
       " '__reduce__',\n",
       " '__reduce_ex__',\n",
       " '__repr__',\n",
       " '__rmul__',\n",
       " '__setattr__',\n",
       " '__sizeof__',\n",
       " '__str__',\n",
       " '__subclasshook__',\n",
       " 'count',\n",
       " 'index']"
      ]
     },
     "execution_count": 22,
     "metadata": {},
     "output_type": "execute_result"
    }
   ],
   "source": [
    "# tuple methods\n",
    "dir(t)"
   ]
  },
  {
   "cell_type": "code",
   "execution_count": 25,
   "id": "073aaf70",
   "metadata": {},
   "outputs": [
    {
     "name": "stdout",
     "output_type": "stream",
     "text": [
      "2\n",
      "1\n"
     ]
    }
   ],
   "source": [
    "t=(90,87,67,45,87)\n",
    "print(t.count(87))\n",
    "print(t.count(67))"
   ]
  },
  {
   "cell_type": "code",
   "execution_count": 26,
   "id": "a33ddc0b",
   "metadata": {},
   "outputs": [
    {
     "data": {
      "text/plain": [
       "3"
      ]
     },
     "execution_count": 26,
     "metadata": {},
     "output_type": "execute_result"
    }
   ],
   "source": [
    "t.index(45)"
   ]
  },
  {
   "cell_type": "code",
   "execution_count": 27,
   "id": "cc71b047",
   "metadata": {
    "collapsed": true
   },
   "outputs": [
    {
     "name": "stdout",
     "output_type": "stream",
     "text": [
      "90\n",
      "87\n",
      "67\n",
      "45\n",
      "87\n"
     ]
    }
   ],
   "source": [
    "# Iterating through a tuple\n",
    "\n",
    "for i in t:\n",
    "    print(i)"
   ]
  },
  {
   "cell_type": "code",
   "execution_count": 28,
   "id": "fb1e80c6",
   "metadata": {},
   "outputs": [
    {
     "name": "stdout",
     "output_type": "stream",
     "text": [
      "90 87 67 45 87 "
     ]
    }
   ],
   "source": [
    "for i in t:\n",
    "    print(i,end=\" \")"
   ]
  },
  {
   "cell_type": "code",
   "execution_count": 29,
   "id": "23d94f66",
   "metadata": {},
   "outputs": [
    {
     "name": "stdout",
     "output_type": "stream",
     "text": [
      "True\n"
     ]
    }
   ],
   "source": [
    "# membership operator in \n",
    "\n",
    "print(90 in t)"
   ]
  },
  {
   "cell_type": "code",
   "execution_count": 30,
   "id": "792f05fe",
   "metadata": {},
   "outputs": [
    {
     "name": "stdout",
     "output_type": "stream",
     "text": [
      "False\n"
     ]
    }
   ],
   "source": [
    "print(2 in t)"
   ]
  },
  {
   "cell_type": "code",
   "execution_count": 31,
   "id": "9d9dd319",
   "metadata": {},
   "outputs": [
    {
     "name": "stdout",
     "output_type": "stream",
     "text": [
      "(90, 89, (10, 20, 30))\n"
     ]
    }
   ],
   "source": [
    "# nested tuple\n",
    "\n",
    "t=(90,89,(10,20,30))\n",
    "print(t)"
   ]
  },
  {
   "cell_type": "code",
   "execution_count": 32,
   "id": "a22634d7",
   "metadata": {},
   "outputs": [
    {
     "data": {
      "text/plain": [
       "(10, 20, 30)"
      ]
     },
     "execution_count": 32,
     "metadata": {},
     "output_type": "execute_result"
    }
   ],
   "source": [
    "t[2]"
   ]
  },
  {
   "cell_type": "code",
   "execution_count": 33,
   "id": "2847c5fb",
   "metadata": {},
   "outputs": [
    {
     "data": {
      "text/plain": [
       "20"
      ]
     },
     "execution_count": 33,
     "metadata": {},
     "output_type": "execute_result"
    }
   ],
   "source": [
    "t[2][1]"
   ]
  },
  {
   "cell_type": "code",
   "execution_count": 34,
   "id": "9d645640",
   "metadata": {},
   "outputs": [
    {
     "data": {
      "text/plain": [
       "10"
      ]
     },
     "execution_count": 34,
     "metadata": {},
     "output_type": "execute_result"
    }
   ],
   "source": [
    "t[2][0]"
   ]
  },
  {
   "cell_type": "markdown",
   "id": "7d1de42e",
   "metadata": {},
   "source": [
    "### Dictionary\n",
    "\n",
    "\n",
    "* Dictionary is a collection of items or collection of key and value pair\n",
    "* In dictionary keys acts as a index to get the values"
   ]
  },
  {
   "cell_type": "markdown",
   "id": "3280269d",
   "metadata": {},
   "source": [
    "### creating a dictionary\n",
    "\n",
    "### d={key:value,key1:value1}"
   ]
  },
  {
   "cell_type": "code",
   "execution_count": 35,
   "id": "32e8cdc0",
   "metadata": {},
   "outputs": [],
   "source": [
    "d={1:10,2:20,3:30}"
   ]
  },
  {
   "cell_type": "code",
   "execution_count": 36,
   "id": "2945d0f5",
   "metadata": {},
   "outputs": [
    {
     "data": {
      "text/plain": [
       "{1: 10, 2: 20, 3: 30}"
      ]
     },
     "execution_count": 36,
     "metadata": {},
     "output_type": "execute_result"
    }
   ],
   "source": [
    "d"
   ]
  },
  {
   "cell_type": "code",
   "execution_count": 37,
   "id": "de6f1804",
   "metadata": {},
   "outputs": [
    {
     "data": {
      "text/plain": [
       "dict_keys([1, 2, 3])"
      ]
     },
     "execution_count": 37,
     "metadata": {},
     "output_type": "execute_result"
    }
   ],
   "source": [
    "d.keys()"
   ]
  },
  {
   "cell_type": "code",
   "execution_count": 38,
   "id": "01ea2dc8",
   "metadata": {},
   "outputs": [
    {
     "data": {
      "text/plain": [
       "dict_values([10, 20, 30])"
      ]
     },
     "execution_count": 38,
     "metadata": {},
     "output_type": "execute_result"
    }
   ],
   "source": [
    "d.values()"
   ]
  },
  {
   "cell_type": "code",
   "execution_count": 39,
   "id": "728ae6fd",
   "metadata": {},
   "outputs": [
    {
     "data": {
      "text/plain": [
       "dict_items([(1, 10), (2, 20), (3, 30)])"
      ]
     },
     "execution_count": 39,
     "metadata": {},
     "output_type": "execute_result"
    }
   ],
   "source": [
    "d.items()"
   ]
  },
  {
   "cell_type": "code",
   "execution_count": 41,
   "id": "3e2886cf",
   "metadata": {},
   "outputs": [
    {
     "data": {
      "text/plain": [
       "dict_keys(['bhanu', 'surya', 'Ramya'])"
      ]
     },
     "execution_count": 41,
     "metadata": {},
     "output_type": "execute_result"
    }
   ],
   "source": [
    "# student dictionary\n",
    "\n",
    "st={\"bhanu\":89,\"surya\":90,\"Ramya\":85}\n",
    "st.keys()"
   ]
  },
  {
   "cell_type": "code",
   "execution_count": 42,
   "id": "58ea1644",
   "metadata": {},
   "outputs": [
    {
     "data": {
      "text/plain": [
       "90"
      ]
     },
     "execution_count": 42,
     "metadata": {},
     "output_type": "execute_result"
    }
   ],
   "source": [
    "# to get student surya marks\n",
    "\n",
    "st[\"surya\"]  # accessing by using keys as index"
   ]
  },
  {
   "cell_type": "code",
   "execution_count": 43,
   "id": "ffab2f6e",
   "metadata": {
    "collapsed": true
   },
   "outputs": [
    {
     "ename": "KeyError",
     "evalue": "90",
     "output_type": "error",
     "traceback": [
      "\u001b[1;31m---------------------------------------------------------------------------\u001b[0m",
      "\u001b[1;31mKeyError\u001b[0m                                  Traceback (most recent call last)",
      "\u001b[1;32m~\\AppData\\Local\\Temp\\ipykernel_18216\\8404775.py\u001b[0m in \u001b[0;36m<module>\u001b[1;34m\u001b[0m\n\u001b[1;32m----> 1\u001b[1;33m \u001b[0mst\u001b[0m\u001b[1;33m[\u001b[0m\u001b[1;36m90\u001b[0m\u001b[1;33m]\u001b[0m\u001b[1;33m\u001b[0m\u001b[1;33m\u001b[0m\u001b[0m\n\u001b[0m",
      "\u001b[1;31mKeyError\u001b[0m: 90"
     ]
    }
   ],
   "source": [
    "st[90]  # not possible"
   ]
  },
  {
   "cell_type": "code",
   "execution_count": 44,
   "id": "e0605669",
   "metadata": {},
   "outputs": [
    {
     "data": {
      "text/plain": [
       "85"
      ]
     },
     "execution_count": 44,
     "metadata": {},
     "output_type": "execute_result"
    }
   ],
   "source": [
    "st[\"Ramya\"]"
   ]
  },
  {
   "cell_type": "code",
   "execution_count": 48,
   "id": "d4bd9cb0",
   "metadata": {},
   "outputs": [
    {
     "name": "stdout",
     "output_type": "stream",
     "text": [
      "total marks of studens:  264\n"
     ]
    }
   ],
   "source": [
    "# print sum of all the marks\n",
    "\n",
    "marks=st.values()\n",
    "total=sum(marks)\n",
    "print(\"total marks of studens: \",total)"
   ]
  },
  {
   "cell_type": "code",
   "execution_count": 49,
   "id": "93ab98a9",
   "metadata": {},
   "outputs": [],
   "source": [
    "# average of the all students marks"
   ]
  },
  {
   "cell_type": "code",
   "execution_count": 50,
   "id": "5a6a54e8",
   "metadata": {},
   "outputs": [
    {
     "data": {
      "text/plain": [
       "{'bhanu': 89, 'surya': 90, 'Ramya': 85}"
      ]
     },
     "execution_count": 50,
     "metadata": {},
     "output_type": "execute_result"
    }
   ],
   "source": [
    "# changing dictionary values\n",
    "\n",
    "st"
   ]
  },
  {
   "cell_type": "code",
   "execution_count": 52,
   "id": "b2571fb5",
   "metadata": {},
   "outputs": [
    {
     "data": {
      "text/plain": [
       "{'bhanu': 89, 'surya': 95, 'Ramya': 85}"
      ]
     },
     "execution_count": 52,
     "metadata": {},
     "output_type": "execute_result"
    }
   ],
   "source": [
    "st[\"surya\"]=95\n",
    "st"
   ]
  },
  {
   "cell_type": "code",
   "execution_count": 53,
   "id": "66d963e1",
   "metadata": {},
   "outputs": [
    {
     "data": {
      "text/plain": [
       "{'bhanu': 89, 'surya': 95, 'Ramya': 85, 'Lokesh': 86}"
      ]
     },
     "execution_count": 53,
     "metadata": {},
     "output_type": "execute_result"
    }
   ],
   "source": [
    "# adding items to a dictionary\n",
    "\n",
    "st[\"Lokesh\"]=86   # d[key]=value\n",
    "st"
   ]
  },
  {
   "cell_type": "code",
   "execution_count": 83,
   "id": "b30c7e76",
   "metadata": {},
   "outputs": [
    {
     "name": "stdout",
     "output_type": "stream",
     "text": [
      "Ramya\n"
     ]
    }
   ],
   "source": [
    "# print student name who is having maximum marks\n",
    "\n",
    "mv=max(st.values())\n",
    "\n",
    "for k,v in st.items():\n",
    "    if v==mv:\n",
    "        print(k)"
   ]
  },
  {
   "cell_type": "code",
   "execution_count": 54,
   "id": "2a402dd5",
   "metadata": {},
   "outputs": [
    {
     "data": {
      "text/plain": [
       "4"
      ]
     },
     "execution_count": 54,
     "metadata": {},
     "output_type": "execute_result"
    }
   ],
   "source": [
    "# length of a dictionary\n",
    "\n",
    "len(st)"
   ]
  },
  {
   "cell_type": "code",
   "execution_count": 55,
   "id": "eea09531",
   "metadata": {
    "collapsed": true
   },
   "outputs": [
    {
     "name": "stdout",
     "output_type": "stream",
     "text": [
      "1   10\n",
      "2   20\n",
      "3   30\n"
     ]
    }
   ],
   "source": [
    "# Iterating through a dictionary\n",
    "\n",
    "for k,v in d.items():\n",
    "    print(k,\" \",v)"
   ]
  },
  {
   "cell_type": "code",
   "execution_count": 56,
   "id": "5146ba4a",
   "metadata": {
    "collapsed": true
   },
   "outputs": [
    {
     "name": "stdout",
     "output_type": "stream",
     "text": [
      "1\n",
      "2\n",
      "3\n"
     ]
    }
   ],
   "source": [
    "for k in d.keys():\n",
    "    print(k)"
   ]
  },
  {
   "cell_type": "code",
   "execution_count": 57,
   "id": "a43880a9",
   "metadata": {
    "collapsed": true
   },
   "outputs": [
    {
     "name": "stdout",
     "output_type": "stream",
     "text": [
      "10\n",
      "20\n",
      "30\n"
     ]
    }
   ],
   "source": [
    "for v in d.values():\n",
    "    print(v)"
   ]
  },
  {
   "cell_type": "code",
   "execution_count": 58,
   "id": "98101aca",
   "metadata": {},
   "outputs": [
    {
     "name": "stdout",
     "output_type": "stream",
     "text": [
      "['__class__', '__class_getitem__', '__contains__', '__delattr__', '__delitem__', '__dir__', '__doc__', '__eq__', '__format__', '__ge__', '__getattribute__', '__getitem__', '__gt__', '__hash__', '__init__', '__init_subclass__', '__ior__', '__iter__', '__le__', '__len__', '__lt__', '__ne__', '__new__', '__or__', '__reduce__', '__reduce_ex__', '__repr__', '__reversed__', '__ror__', '__setattr__', '__setitem__', '__sizeof__', '__str__', '__subclasshook__', 'clear', 'copy', 'fromkeys', 'get', 'items', 'keys', 'pop', 'popitem', 'setdefault', 'update', 'values'] "
     ]
    }
   ],
   "source": [
    "print(dir(d),end=\" \")"
   ]
  },
  {
   "cell_type": "code",
   "execution_count": 61,
   "id": "796ab6be",
   "metadata": {},
   "outputs": [
    {
     "name": "stdout",
     "output_type": "stream",
     "text": [
      "{1: 10, 2: 20, 3: 30}\n",
      "{4: 40, 5: 50, 6: 60}\n",
      "{4: 40, 5: 50, 6: 60}\n"
     ]
    }
   ],
   "source": [
    "# copy\n",
    "\n",
    "d1={1:10,2:20,3:30}\n",
    "d2={4:40,5:50,6:60}\n",
    "print(d1)\n",
    "d1=d2.copy()  # copying d2 into d1\n",
    "print(d1)\n",
    "print(d2)"
   ]
  },
  {
   "cell_type": "code",
   "execution_count": 62,
   "id": "b5fbdf73",
   "metadata": {},
   "outputs": [
    {
     "data": {
      "text/plain": [
       "{'bhanu': 89, 'surya': 95, 'Ramya': 98, 'Lokesh': 86}"
      ]
     },
     "execution_count": 62,
     "metadata": {},
     "output_type": "execute_result"
    }
   ],
   "source": [
    "# update\n",
    "\n",
    "st.update({\"Ramya\":98})\n",
    "st"
   ]
  },
  {
   "cell_type": "code",
   "execution_count": 63,
   "id": "48ee7dd0",
   "metadata": {},
   "outputs": [
    {
     "data": {
      "text/plain": [
       "86"
      ]
     },
     "execution_count": 63,
     "metadata": {},
     "output_type": "execute_result"
    }
   ],
   "source": [
    "st.get(\"Lokesh\")   # to get thevalue of a given key"
   ]
  },
  {
   "cell_type": "code",
   "execution_count": 64,
   "id": "1fbb1081",
   "metadata": {},
   "outputs": [
    {
     "data": {
      "text/plain": [
       "{1: 10, 2: 20, 3: 30}"
      ]
     },
     "execution_count": 64,
     "metadata": {},
     "output_type": "execute_result"
    }
   ],
   "source": [
    "d"
   ]
  },
  {
   "cell_type": "code",
   "execution_count": 66,
   "id": "b1ef7c92",
   "metadata": {},
   "outputs": [
    {
     "data": {
      "text/plain": [
       "20"
      ]
     },
     "execution_count": 66,
     "metadata": {},
     "output_type": "execute_result"
    }
   ],
   "source": [
    "d.pop(2)"
   ]
  },
  {
   "cell_type": "code",
   "execution_count": 67,
   "id": "26fef9d8",
   "metadata": {},
   "outputs": [
    {
     "data": {
      "text/plain": [
       "{1: 10, 3: 30}"
      ]
     },
     "execution_count": 67,
     "metadata": {},
     "output_type": "execute_result"
    }
   ],
   "source": [
    "d"
   ]
  },
  {
   "cell_type": "code",
   "execution_count": 68,
   "id": "50fc8f28",
   "metadata": {},
   "outputs": [
    {
     "data": {
      "text/plain": [
       "(3, 30)"
      ]
     },
     "execution_count": 68,
     "metadata": {},
     "output_type": "execute_result"
    }
   ],
   "source": [
    "d.popitem()"
   ]
  },
  {
   "cell_type": "code",
   "execution_count": 69,
   "id": "7b1dc8fc",
   "metadata": {},
   "outputs": [
    {
     "data": {
      "text/plain": [
       "{1: 10}"
      ]
     },
     "execution_count": 69,
     "metadata": {},
     "output_type": "execute_result"
    }
   ],
   "source": [
    "d"
   ]
  },
  {
   "cell_type": "code",
   "execution_count": 70,
   "id": "821c5034",
   "metadata": {},
   "outputs": [],
   "source": [
    "d.clear()"
   ]
  },
  {
   "cell_type": "code",
   "execution_count": 71,
   "id": "922b5dcd",
   "metadata": {},
   "outputs": [
    {
     "data": {
      "text/plain": [
       "{}"
      ]
     },
     "execution_count": 71,
     "metadata": {},
     "output_type": "execute_result"
    }
   ],
   "source": [
    "d"
   ]
  },
  {
   "cell_type": "code",
   "execution_count": 72,
   "id": "503e65da",
   "metadata": {},
   "outputs": [],
   "source": [
    "del d"
   ]
  },
  {
   "cell_type": "code",
   "execution_count": 73,
   "id": "bf5b013a",
   "metadata": {},
   "outputs": [
    {
     "ename": "NameError",
     "evalue": "name 'd' is not defined",
     "output_type": "error",
     "traceback": [
      "\u001b[1;31m---------------------------------------------------------------------------\u001b[0m",
      "\u001b[1;31mNameError\u001b[0m                                 Traceback (most recent call last)",
      "\u001b[1;32m~\\AppData\\Local\\Temp\\ipykernel_18216\\3161387801.py\u001b[0m in \u001b[0;36m<module>\u001b[1;34m\u001b[0m\n\u001b[1;32m----> 1\u001b[1;33m \u001b[0md\u001b[0m\u001b[1;33m\u001b[0m\u001b[1;33m\u001b[0m\u001b[0m\n\u001b[0m",
      "\u001b[1;31mNameError\u001b[0m: name 'd' is not defined"
     ]
    }
   ],
   "source": [
    "d"
   ]
  },
  {
   "cell_type": "code",
   "execution_count": 74,
   "id": "67e625c7",
   "metadata": {},
   "outputs": [
    {
     "data": {
      "text/plain": [
       "{1: 900, 2: 900, 3: 900}"
      ]
     },
     "execution_count": 74,
     "metadata": {},
     "output_type": "execute_result"
    }
   ],
   "source": [
    "# fromkeys\n",
    "\n",
    "x=(1,2,3)\n",
    "y=(900)\n",
    "\n",
    "d=dict.fromkeys(x,y)\n",
    "d"
   ]
  },
  {
   "cell_type": "code",
   "execution_count": 75,
   "id": "cc306b48",
   "metadata": {},
   "outputs": [
    {
     "name": "stdout",
     "output_type": "stream",
     "text": [
      "default A\n"
     ]
    }
   ],
   "source": [
    "# setdefault -> returns value if key is present,\n",
    "# otherwise returns none or default value\n",
    "\n",
    "d={1:\"A\",2:\"B\",3:\"C\"}\n",
    "p=d.setdefault(1)   # if key is presnt\n",
    "print(\"default\",p)"
   ]
  },
  {
   "cell_type": "code",
   "execution_count": 77,
   "id": "6f145154",
   "metadata": {},
   "outputs": [
    {
     "name": "stdout",
     "output_type": "stream",
     "text": [
      "default None\n"
     ]
    }
   ],
   "source": [
    "p1=d.setdefault(4) # if key is not present\n",
    "print(\"default\",p1)"
   ]
  },
  {
   "cell_type": "code",
   "execution_count": 78,
   "id": "b9d90f15",
   "metadata": {},
   "outputs": [
    {
     "name": "stdout",
     "output_type": "stream",
     "text": [
      "default Y\n"
     ]
    }
   ],
   "source": [
    "p2=d.setdefault(5,'Y')\n",
    "print(\"default\",p2)"
   ]
  },
  {
   "cell_type": "markdown",
   "id": "53486134",
   "metadata": {},
   "source": [
    "### Sets\n",
    "* Set is a unordered collection of items.\n",
    "* Every set element is unique\n",
    "* set doesnot allows any duplicate values"
   ]
  },
  {
   "cell_type": "code",
   "execution_count": 1,
   "id": "9425f347",
   "metadata": {},
   "outputs": [
    {
     "name": "stdout",
     "output_type": "stream",
     "text": [
      "<class 'set'>\n"
     ]
    }
   ],
   "source": [
    "# creating set\n",
    "\n",
    "s={10,20,30}\n",
    "print(type(s))"
   ]
  },
  {
   "cell_type": "code",
   "execution_count": 2,
   "id": "0ce30fc9",
   "metadata": {},
   "outputs": [
    {
     "data": {
      "text/plain": [
       "{(90, 86, 54), 10, 'data'}"
      ]
     },
     "execution_count": 2,
     "metadata": {},
     "output_type": "execute_result"
    }
   ],
   "source": [
    "# since sets are unordered , we can't access or change an element of a set\n",
    "\n",
    "s1={10,\"data\",(90,86,54)}\n",
    "s1"
   ]
  },
  {
   "cell_type": "code",
   "execution_count": 3,
   "id": "7bc588bb",
   "metadata": {
    "collapsed": true
   },
   "outputs": [
    {
     "ename": "TypeError",
     "evalue": "'set' object is not subscriptable",
     "output_type": "error",
     "traceback": [
      "\u001b[1;31m---------------------------------------------------------------------------\u001b[0m",
      "\u001b[1;31mTypeError\u001b[0m                                 Traceback (most recent call last)",
      "\u001b[1;32m~\\AppData\\Local\\Temp\\ipykernel_7448\\643609873.py\u001b[0m in \u001b[0;36m<module>\u001b[1;34m\u001b[0m\n\u001b[1;32m----> 1\u001b[1;33m \u001b[0ms1\u001b[0m\u001b[1;33m[\u001b[0m\u001b[1;36m0\u001b[0m\u001b[1;33m]\u001b[0m\u001b[1;33m\u001b[0m\u001b[1;33m\u001b[0m\u001b[0m\n\u001b[0m",
      "\u001b[1;31mTypeError\u001b[0m: 'set' object is not subscriptable"
     ]
    }
   ],
   "source": [
    "s1[0]"
   ]
  },
  {
   "cell_type": "code",
   "execution_count": 4,
   "id": "f578e4f2",
   "metadata": {},
   "outputs": [
    {
     "name": "stdout",
     "output_type": "stream",
     "text": [
      "['__and__', '__class__', '__class_getitem__', '__contains__', '__delattr__', '__dir__', '__doc__', '__eq__', '__format__', '__ge__', '__getattribute__', '__gt__', '__hash__', '__iand__', '__init__', '__init_subclass__', '__ior__', '__isub__', '__iter__', '__ixor__', '__le__', '__len__', '__lt__', '__ne__', '__new__', '__or__', '__rand__', '__reduce__', '__reduce_ex__', '__repr__', '__ror__', '__rsub__', '__rxor__', '__setattr__', '__sizeof__', '__str__', '__sub__', '__subclasshook__', '__xor__', 'add', 'clear', 'copy', 'difference', 'difference_update', 'discard', 'intersection', 'intersection_update', 'isdisjoint', 'issubset', 'issuperset', 'pop', 'remove', 'symmetric_difference', 'symmetric_difference_update', 'union', 'update'] "
     ]
    }
   ],
   "source": [
    "print(dir(s),end=\" \")"
   ]
  },
  {
   "cell_type": "code",
   "execution_count": 5,
   "id": "29476969",
   "metadata": {},
   "outputs": [
    {
     "data": {
      "text/plain": [
       "{(90, 86, 54), 10, 108, 'data'}"
      ]
     },
     "execution_count": 5,
     "metadata": {},
     "output_type": "execute_result"
    }
   ],
   "source": [
    "# add()  -> to add a single item to a set\n",
    "\n",
    "s1.add(108)\n",
    "s1"
   ]
  },
  {
   "cell_type": "code",
   "execution_count": 6,
   "id": "911966ad",
   "metadata": {},
   "outputs": [
    {
     "data": {
      "text/plain": [
       "{(90, 86, 54), 10, 108, 'data', 'hello world'}"
      ]
     },
     "execution_count": 6,
     "metadata": {},
     "output_type": "execute_result"
    }
   ],
   "source": [
    "s1.add(\"hello world\")\n",
    "s1"
   ]
  },
  {
   "cell_type": "code",
   "execution_count": 7,
   "id": "dab03e50",
   "metadata": {},
   "outputs": [
    {
     "data": {
      "text/plain": [
       "{(90, 86, 54), 10, 101, 108, 203, 'data', 'hello world'}"
      ]
     },
     "execution_count": 7,
     "metadata": {},
     "output_type": "execute_result"
    }
   ],
   "source": [
    "# update() -> to add multiple elements to a set \n",
    "\n",
    "s1.update((101,203))\n",
    "s1"
   ]
  },
  {
   "cell_type": "code",
   "execution_count": 8,
   "id": "07664e72",
   "metadata": {},
   "outputs": [
    {
     "data": {
      "text/plain": [
       "{(90, 86, 54), 10, 101, 108, 203, 'data', 'hello world'}"
      ]
     },
     "execution_count": 8,
     "metadata": {},
     "output_type": "execute_result"
    }
   ],
   "source": [
    "# removing set element\n",
    "\n",
    "s1"
   ]
  },
  {
   "cell_type": "code",
   "execution_count": 9,
   "id": "c29f08d5",
   "metadata": {},
   "outputs": [],
   "source": [
    "s1.remove(\"hello world\")"
   ]
  },
  {
   "cell_type": "code",
   "execution_count": 10,
   "id": "f8c71495",
   "metadata": {},
   "outputs": [
    {
     "data": {
      "text/plain": [
       "{(90, 86, 54), 10, 101, 108, 203, 'data'}"
      ]
     },
     "execution_count": 10,
     "metadata": {},
     "output_type": "execute_result"
    }
   ],
   "source": [
    "s1"
   ]
  },
  {
   "cell_type": "code",
   "execution_count": 11,
   "id": "bc9f6b8e",
   "metadata": {},
   "outputs": [
    {
     "data": {
      "text/plain": [
       "101"
      ]
     },
     "execution_count": 11,
     "metadata": {},
     "output_type": "execute_result"
    }
   ],
   "source": [
    "# pop()\n",
    "\n",
    "s1.pop()"
   ]
  },
  {
   "cell_type": "code",
   "execution_count": 12,
   "id": "865833a7",
   "metadata": {},
   "outputs": [
    {
     "data": {
      "text/plain": [
       "10"
      ]
     },
     "execution_count": 12,
     "metadata": {},
     "output_type": "execute_result"
    }
   ],
   "source": [
    "s1.pop()"
   ]
  },
  {
   "cell_type": "code",
   "execution_count": 13,
   "id": "3a7ae00d",
   "metadata": {},
   "outputs": [],
   "source": [
    "# clear a set\n",
    "\n",
    "s1.clear()"
   ]
  },
  {
   "cell_type": "code",
   "execution_count": 14,
   "id": "4ed6469e",
   "metadata": {},
   "outputs": [
    {
     "data": {
      "text/plain": [
       "set()"
      ]
     },
     "execution_count": 14,
     "metadata": {},
     "output_type": "execute_result"
    }
   ],
   "source": [
    "s1"
   ]
  },
  {
   "cell_type": "code",
   "execution_count": 15,
   "id": "47e9b322",
   "metadata": {},
   "outputs": [
    {
     "data": {
      "text/plain": [
       "{'a', 'd', 'i', 'l', 'n', 's', 't', 'y'}"
      ]
     },
     "execution_count": 15,
     "metadata": {},
     "output_type": "execute_result"
    }
   ],
   "source": [
    "# set of unique elements\n",
    "\n",
    "s=set(\"dataanalysis\")\n",
    "s"
   ]
  },
  {
   "cell_type": "code",
   "execution_count": 16,
   "id": "33faba68",
   "metadata": {},
   "outputs": [
    {
     "data": {
      "text/plain": [
       "{10, 76, 90, 290}"
      ]
     },
     "execution_count": 16,
     "metadata": {},
     "output_type": "execute_result"
    }
   ],
   "source": [
    "s1={10,290,90,76,10}\n",
    "s1"
   ]
  },
  {
   "cell_type": "code",
   "execution_count": 17,
   "id": "b9be9c99",
   "metadata": {},
   "outputs": [
    {
     "data": {
      "text/plain": [
       "{1, 2, 3, 4, 5, 6, 7, 8, 9}"
      ]
     },
     "execution_count": 17,
     "metadata": {},
     "output_type": "execute_result"
    }
   ],
   "source": [
    "# set operations\n",
    "\n",
    "A={1,2,3,4,5}\n",
    "B={5,6,7,8,9}\n",
    "A.union(B)"
   ]
  },
  {
   "cell_type": "code",
   "execution_count": 18,
   "id": "28201a65",
   "metadata": {},
   "outputs": [
    {
     "data": {
      "text/plain": [
       "{5}"
      ]
     },
     "execution_count": 18,
     "metadata": {},
     "output_type": "execute_result"
    }
   ],
   "source": [
    "A.intersection(B)"
   ]
  },
  {
   "cell_type": "code",
   "execution_count": 19,
   "id": "d4cb1a2d",
   "metadata": {},
   "outputs": [
    {
     "data": {
      "text/plain": [
       "{1, 2, 3, 4}"
      ]
     },
     "execution_count": 19,
     "metadata": {},
     "output_type": "execute_result"
    }
   ],
   "source": [
    "A-B    # Difference"
   ]
  },
  {
   "cell_type": "code",
   "execution_count": 20,
   "id": "c78e8cc2",
   "metadata": {},
   "outputs": [
    {
     "data": {
      "text/plain": [
       "{6, 7, 8, 9}"
      ]
     },
     "execution_count": 20,
     "metadata": {},
     "output_type": "execute_result"
    }
   ],
   "source": [
    "B-A"
   ]
  },
  {
   "cell_type": "code",
   "execution_count": 21,
   "id": "4142662a",
   "metadata": {},
   "outputs": [
    {
     "name": "stdout",
     "output_type": "stream",
     "text": [
      "{1, 2, 3, 4, 5}\n",
      "{5, 6, 7, 8, 9}\n"
     ]
    },
    {
     "data": {
      "text/plain": [
       "{1, 2, 3, 4}"
      ]
     },
     "execution_count": 21,
     "metadata": {},
     "output_type": "execute_result"
    }
   ],
   "source": [
    "print(A)\n",
    "print(B)\n",
    "A.difference(B)"
   ]
  },
  {
   "cell_type": "code",
   "execution_count": 22,
   "id": "fea7fcb2",
   "metadata": {},
   "outputs": [
    {
     "name": "stdout",
     "output_type": "stream",
     "text": [
      "{1, 2, 3, 4, 5}\n",
      "{5, 6, 7, 8, 9}\n"
     ]
    },
    {
     "data": {
      "text/plain": [
       "{1, 2, 3, 4, 6, 7, 8, 9}"
      ]
     },
     "execution_count": 22,
     "metadata": {},
     "output_type": "execute_result"
    }
   ],
   "source": [
    "# symmetric difference\n",
    "\n",
    "print(A)\n",
    "print(B)\n",
    "A.symmetric_difference(B)  # both items of A and B, except common items"
   ]
  },
  {
   "cell_type": "code",
   "execution_count": 23,
   "id": "96e37d4f",
   "metadata": {},
   "outputs": [],
   "source": [
    "x={1,2,3}\n",
    "y={7,8,9}\n",
    "x=y.copy()"
   ]
  },
  {
   "cell_type": "code",
   "execution_count": 24,
   "id": "a170ec5c",
   "metadata": {},
   "outputs": [
    {
     "data": {
      "text/plain": [
       "{7, 8, 9}"
      ]
     },
     "execution_count": 24,
     "metadata": {},
     "output_type": "execute_result"
    }
   ],
   "source": [
    "x"
   ]
  },
  {
   "cell_type": "code",
   "execution_count": 25,
   "id": "61230c85",
   "metadata": {},
   "outputs": [
    {
     "data": {
      "text/plain": [
       "True"
      ]
     },
     "execution_count": 25,
     "metadata": {},
     "output_type": "execute_result"
    }
   ],
   "source": [
    "s1={1,2,3}  # subset\n",
    "s2={1,2,3,4,5,6,7,8,9,10}  # superset\n",
    "s1.issubset(s2)"
   ]
  },
  {
   "cell_type": "code",
   "execution_count": 27,
   "id": "520c3110",
   "metadata": {},
   "outputs": [
    {
     "data": {
      "text/plain": [
       "True"
      ]
     },
     "execution_count": 27,
     "metadata": {},
     "output_type": "execute_result"
    }
   ],
   "source": [
    "s2.issuperset(s1)"
   ]
  },
  {
   "cell_type": "code",
   "execution_count": 28,
   "id": "74a704fd",
   "metadata": {},
   "outputs": [
    {
     "name": "stdout",
     "output_type": "stream",
     "text": [
      "True\n"
     ]
    }
   ],
   "source": [
    "# set membership test\n",
    "\n",
    "print(10 in s2)"
   ]
  },
  {
   "cell_type": "code",
   "execution_count": 30,
   "id": "6047bc2c",
   "metadata": {},
   "outputs": [
    {
     "name": "stdout",
     "output_type": "stream",
     "text": [
      "1\n",
      "2\n",
      "3\n"
     ]
    }
   ],
   "source": [
    "# iterating through a set\n",
    "\n",
    "for i in s1:\n",
    "    print(i)"
   ]
  },
  {
   "cell_type": "code",
   "execution_count": 34,
   "id": "665668e5",
   "metadata": {},
   "outputs": [
    {
     "name": "stdout",
     "output_type": "stream",
     "text": [
      "90\n",
      "22\n",
      "7\n",
      "434\n",
      "[22, 34, 45, 67, 87, 89, 90]\n",
      "[90, 89, 87, 67, 45, 34, 22]\n"
     ]
    }
   ],
   "source": [
    "s1={90,89,87,67,45,34,22}\n",
    "print(max(s1))\n",
    "print(min(s1))\n",
    "print(len(s1))\n",
    "print(sum(s1))\n",
    "print(sorted(s1))\n",
    "print(sorted(s1,reverse=True))"
   ]
  },
  {
   "cell_type": "markdown",
   "id": "94b43fb9",
   "metadata": {},
   "source": [
    "### String\n",
    "\n",
    "* String is a group of characters\n",
    "* strings are enclosed with single quotes or double quotes"
   ]
  },
  {
   "cell_type": "code",
   "execution_count": 35,
   "id": "25aa9085",
   "metadata": {},
   "outputs": [
    {
     "name": "stdout",
     "output_type": "stream",
     "text": [
      "welcome\n",
      "<class 'str'>\n"
     ]
    }
   ],
   "source": [
    "s=\"welcome\"\n",
    "print(s)\n",
    "print(type(s))"
   ]
  },
  {
   "cell_type": "code",
   "execution_count": 40,
   "id": "9d887286",
   "metadata": {},
   "outputs": [
    {
     "name": "stdout",
     "output_type": "stream",
     "text": [
      "w\n",
      "e\n",
      "wloe\n",
      "ecm\n",
      "emoclew\n"
     ]
    }
   ],
   "source": [
    "# accessing\n",
    "\n",
    "print(s[0])\n",
    "print(s[-1])\n",
    "print(s[::2])\n",
    "print(s[1::2])\n",
    "print(s[::-1])"
   ]
  },
  {
   "cell_type": "code",
   "execution_count": 41,
   "id": "525f2aba",
   "metadata": {},
   "outputs": [
    {
     "name": "stdout",
     "output_type": "stream",
     "text": [
      "come\n"
     ]
    }
   ],
   "source": [
    "# welcome\n",
    "# o/p: come\n",
    "print(s[3:])"
   ]
  },
  {
   "cell_type": "code",
   "execution_count": 42,
   "id": "f5aca92e",
   "metadata": {},
   "outputs": [
    {
     "name": "stdout",
     "output_type": "stream",
     "text": [
      "elcom\n"
     ]
    }
   ],
   "source": [
    "# welcome\n",
    "# o/p: elcom\n",
    "\n",
    "print(s[1:6])"
   ]
  },
  {
   "cell_type": "code",
   "execution_count": 43,
   "id": "56d32f97",
   "metadata": {},
   "outputs": [
    {
     "name": "stdout",
     "output_type": "stream",
     "text": [
      "['__add__', '__class__', '__contains__', '__delattr__', '__dir__', '__doc__', '__eq__', '__format__', '__ge__', '__getattribute__', '__getitem__', '__getnewargs__', '__gt__', '__hash__', '__init__', '__init_subclass__', '__iter__', '__le__', '__len__', '__lt__', '__mod__', '__mul__', '__ne__', '__new__', '__reduce__', '__reduce_ex__', '__repr__', '__rmod__', '__rmul__', '__setattr__', '__sizeof__', '__str__', '__subclasshook__', 'capitalize', 'casefold', 'center', 'count', 'encode', 'endswith', 'expandtabs', 'find', 'format', 'format_map', 'index', 'isalnum', 'isalpha', 'isascii', 'isdecimal', 'isdigit', 'isidentifier', 'islower', 'isnumeric', 'isprintable', 'isspace', 'istitle', 'isupper', 'join', 'ljust', 'lower', 'lstrip', 'maketrans', 'partition', 'removeprefix', 'removesuffix', 'replace', 'rfind', 'rindex', 'rjust', 'rpartition', 'rsplit', 'rstrip', 'split', 'splitlines', 'startswith', 'strip', 'swapcase', 'title', 'translate', 'upper', 'zfill'] "
     ]
    }
   ],
   "source": [
    "print(dir(s),end=\" \")"
   ]
  },
  {
   "cell_type": "code",
   "execution_count": 44,
   "id": "4f6fec86",
   "metadata": {},
   "outputs": [
    {
     "data": {
      "text/plain": [
       "True"
      ]
     },
     "execution_count": 44,
     "metadata": {},
     "output_type": "execute_result"
    }
   ],
   "source": [
    "s=\"python\"\n",
    "s.isalpha() # returns true if the given string contains only alphabets ,otherwise returns false\n"
   ]
  },
  {
   "cell_type": "code",
   "execution_count": 45,
   "id": "0e231112",
   "metadata": {},
   "outputs": [
    {
     "data": {
      "text/plain": [
       "False"
      ]
     },
     "execution_count": 45,
     "metadata": {},
     "output_type": "execute_result"
    }
   ],
   "source": [
    "s1=\"89python\"\n",
    "s1.isalpha()"
   ]
  },
  {
   "cell_type": "code",
   "execution_count": 46,
   "id": "01eb7558",
   "metadata": {},
   "outputs": [
    {
     "data": {
      "text/plain": [
       "True"
      ]
     },
     "execution_count": 46,
     "metadata": {},
     "output_type": "execute_result"
    }
   ],
   "source": [
    "s=\"9988\"\n",
    "s.isdigit() # returns true if string contains only digits,otherwise return false"
   ]
  },
  {
   "cell_type": "code",
   "execution_count": 48,
   "id": "c5168e21",
   "metadata": {},
   "outputs": [
    {
     "name": "stdout",
     "output_type": "stream",
     "text": [
      "True\n",
      "False\n"
     ]
    }
   ],
   "source": [
    "# isalnum() -> returns true if the string contains alphabet or number\n",
    "\n",
    "s=\"super30\"\n",
    "print(s.isalnum())\n",
    "s1=\"233ghh@##\"\n",
    "print(s1.isalnum())"
   ]
  },
  {
   "cell_type": "code",
   "execution_count": 50,
   "id": "1733485d",
   "metadata": {},
   "outputs": [
    {
     "data": {
      "text/plain": [
       "True"
      ]
     },
     "execution_count": 50,
     "metadata": {},
     "output_type": "execute_result"
    }
   ],
   "source": [
    "s=\"python\"\n",
    "s.islower()  # returns true if the string characters are in lowercase otherwise return false"
   ]
  },
  {
   "cell_type": "code",
   "execution_count": 51,
   "id": "a3e72d88",
   "metadata": {},
   "outputs": [
    {
     "data": {
      "text/plain": [
       "True"
      ]
     },
     "execution_count": 51,
     "metadata": {},
     "output_type": "execute_result"
    }
   ],
   "source": [
    "s=\"DATA\"\n",
    "s.isupper() # returns true if the string characters are in uppercase otherwise return false"
   ]
  },
  {
   "cell_type": "code",
   "execution_count": 52,
   "id": "482c8426",
   "metadata": {},
   "outputs": [
    {
     "data": {
      "text/plain": [
       "'HELLO WORLD'"
      ]
     },
     "execution_count": 52,
     "metadata": {},
     "output_type": "execute_result"
    }
   ],
   "source": [
    "s=\"hello world\"\n",
    "s.upper() # to convert string into upper case"
   ]
  },
  {
   "cell_type": "code",
   "execution_count": 53,
   "id": "c888194f",
   "metadata": {},
   "outputs": [
    {
     "data": {
      "text/plain": [
       "'titanic'"
      ]
     },
     "execution_count": 53,
     "metadata": {},
     "output_type": "execute_result"
    }
   ],
   "source": [
    "s1=\"TITANIC\"\n",
    "s1.lower()  # to convert string into lowercase"
   ]
  },
  {
   "cell_type": "code",
   "execution_count": 54,
   "id": "f16249c4",
   "metadata": {},
   "outputs": [
    {
     "data": {
      "text/plain": [
       "['pyt', 'ho', 'n']"
      ]
     },
     "execution_count": 54,
     "metadata": {},
     "output_type": "execute_result"
    }
   ],
   "source": [
    "s=\"pyt@ho@n\"\n",
    "s.split('@')"
   ]
  },
  {
   "cell_type": "code",
   "execution_count": 55,
   "id": "e0fae97c",
   "metadata": {},
   "outputs": [
    {
     "data": {
      "text/plain": [
       "['hello', 'world']"
      ]
     },
     "execution_count": 55,
     "metadata": {},
     "output_type": "execute_result"
    }
   ],
   "source": [
    "s=\"hello world\"\n",
    "s.split()       # splits the string by using spaces by default"
   ]
  },
  {
   "cell_type": "code",
   "execution_count": 56,
   "id": "f582a69f",
   "metadata": {},
   "outputs": [
    {
     "data": {
      "text/plain": [
       "'welcome'"
      ]
     },
     "execution_count": 56,
     "metadata": {},
     "output_type": "execute_result"
    }
   ],
   "source": [
    "s=\"welcome \"\n",
    "s.strip()   # used to remove the spaces"
   ]
  },
  {
   "cell_type": "code",
   "execution_count": 57,
   "id": "d2d71a89",
   "metadata": {},
   "outputs": [
    {
     "data": {
      "text/plain": [
       "'welcome '"
      ]
     },
     "execution_count": 57,
     "metadata": {},
     "output_type": "execute_result"
    }
   ],
   "source": [
    "s=\" welcome \"\n",
    "s.lstrip()   # to remove left side spaces"
   ]
  },
  {
   "cell_type": "code",
   "execution_count": 59,
   "id": "774f315a",
   "metadata": {},
   "outputs": [
    {
     "data": {
      "text/plain": [
       "' welcome'"
      ]
     },
     "execution_count": 59,
     "metadata": {},
     "output_type": "execute_result"
    }
   ],
   "source": [
    "s.rstrip()   # to remove right side spaces"
   ]
  },
  {
   "cell_type": "code",
   "execution_count": 60,
   "id": "849b930b",
   "metadata": {},
   "outputs": [
    {
     "data": {
      "text/plain": [
       "'Welcome To The World'"
      ]
     },
     "execution_count": 60,
     "metadata": {},
     "output_type": "execute_result"
    }
   ],
   "source": [
    "s=\"welcome to the world\"\n",
    "s.title()"
   ]
  },
  {
   "cell_type": "code",
   "execution_count": 61,
   "id": "84eda3cd",
   "metadata": {},
   "outputs": [
    {
     "data": {
      "text/plain": [
       "'Welcome to the world'"
      ]
     },
     "execution_count": 61,
     "metadata": {},
     "output_type": "execute_result"
    }
   ],
   "source": [
    "s.capitalize()"
   ]
  },
  {
   "cell_type": "code",
   "execution_count": 63,
   "id": "41ccf77a",
   "metadata": {},
   "outputs": [
    {
     "data": {
      "text/plain": [
       "'PYTHON123'"
      ]
     },
     "execution_count": 63,
     "metadata": {},
     "output_type": "execute_result"
    }
   ],
   "source": [
    "s=\"python123\"\n",
    "s.swapcase()  # swap the case i.e convert upper case into lowercase and lowercase into uppercase"
   ]
  },
  {
   "cell_type": "code",
   "execution_count": 64,
   "id": "33a92956",
   "metadata": {},
   "outputs": [
    {
     "data": {
      "text/plain": [
       "'HELLO'"
      ]
     },
     "execution_count": 64,
     "metadata": {},
     "output_type": "execute_result"
    }
   ],
   "source": [
    "\"hello\".swapcase()"
   ]
  },
  {
   "cell_type": "code",
   "execution_count": 65,
   "id": "463bf87d",
   "metadata": {},
   "outputs": [
    {
     "data": {
      "text/plain": [
       "0"
      ]
     },
     "execution_count": 65,
     "metadata": {},
     "output_type": "execute_result"
    }
   ],
   "source": [
    "s=\"Machine learning\"\n",
    "s.index('M')"
   ]
  },
  {
   "cell_type": "code",
   "execution_count": 66,
   "id": "1a97c76e",
   "metadata": {},
   "outputs": [
    {
     "data": {
      "text/plain": [
       "15"
      ]
     },
     "execution_count": 66,
     "metadata": {},
     "output_type": "execute_result"
    }
   ],
   "source": [
    "s.index('g')"
   ]
  },
  {
   "cell_type": "code",
   "execution_count": 67,
   "id": "74aa3862",
   "metadata": {},
   "outputs": [
    {
     "data": {
      "text/plain": [
       "2"
      ]
     },
     "execution_count": 67,
     "metadata": {},
     "output_type": "execute_result"
    }
   ],
   "source": [
    "s.count('i')"
   ]
  },
  {
   "cell_type": "code",
   "execution_count": 68,
   "id": "9920fae5",
   "metadata": {},
   "outputs": [
    {
     "data": {
      "text/plain": [
       "2"
      ]
     },
     "execution_count": 68,
     "metadata": {},
     "output_type": "execute_result"
    }
   ],
   "source": [
    "# to know the count of a substring inside a string\n",
    "\n",
    "s=\"python workshop python\"\n",
    "s.count('python')"
   ]
  },
  {
   "cell_type": "code",
   "execution_count": 69,
   "id": "50599ce7",
   "metadata": {},
   "outputs": [],
   "source": [
    "# write a function to know whether the given number is even or not"
   ]
  },
  {
   "cell_type": "markdown",
   "id": "683670ee",
   "metadata": {},
   "source": [
    "### Functions\n",
    "\n",
    "* Function is a block of code which is used to perform a specific task\n"
   ]
  },
  {
   "cell_type": "code",
   "execution_count": 73,
   "id": "cf89877c",
   "metadata": {},
   "outputs": [
    {
     "name": "stdout",
     "output_type": "stream",
     "text": [
      "enter a number: 42\n",
      "given number is a even number\n"
     ]
    }
   ],
   "source": [
    "n=int(input(\"enter a number: \"))\n",
    "\n",
    "def isEven():\n",
    "    if n%2==0:\n",
    "        print(\"given number is a even number\")\n",
    "    else:\n",
    "        print(\"given number is odd number\")\n",
    "isEven()      "
   ]
  },
  {
   "cell_type": "code",
   "execution_count": 74,
   "id": "927a3e95",
   "metadata": {},
   "outputs": [],
   "source": [
    "# write a function to swap the numbers\n",
    "\n",
    "# i/p: a=10 , b=20  before swapping\n",
    "# o/p: a=20,  b=10  after swapping"
   ]
  },
  {
   "cell_type": "code",
   "execution_count": null,
   "id": "ccc2bdb9",
   "metadata": {},
   "outputs": [],
   "source": [
    "# write a function to find the greatest among given 3 numbers\n",
    "\n",
    "# i/p: 78, 90,120\n",
    "# o/p : 120"
   ]
  }
 ],
 "metadata": {
  "kernelspec": {
   "display_name": "Python 3 (ipykernel)",
   "language": "python",
   "name": "python3"
  },
  "language_info": {
   "codemirror_mode": {
    "name": "ipython",
    "version": 3
   },
   "file_extension": ".py",
   "mimetype": "text/x-python",
   "name": "python",
   "nbconvert_exporter": "python",
   "pygments_lexer": "ipython3",
   "version": "3.9.13"
  }
 },
 "nbformat": 4,
 "nbformat_minor": 5
}
