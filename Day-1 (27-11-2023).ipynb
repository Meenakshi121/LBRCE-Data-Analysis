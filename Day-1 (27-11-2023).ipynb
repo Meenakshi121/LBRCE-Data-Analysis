{
 "cells": [
  {
   "cell_type": "markdown",
   "id": "3c10c68f",
   "metadata": {},
   "source": [
    "* ipynb -> Interactive python notebook"
   ]
  },
  {
   "cell_type": "markdown",
   "id": "cb59bfc7",
   "metadata": {},
   "source": [
    "## Markdown syntax"
   ]
  },
  {
   "cell_type": "markdown",
   "id": "58141d8d",
   "metadata": {},
   "source": [
    "### Shortcuts\n",
    "\n",
    "* esc + m -> to convert coding cell into markdown cell\n",
    "* esc + y -> to convert markdown cell into coding cell\n",
    "* esc + a -> for new cell above\n",
    "* esc + b -> for new cell below\n",
    "* esc + h -> shortcuts\n",
    "* Shift + Enter -> To run  the cells"
   ]
  },
  {
   "cell_type": "markdown",
   "id": "cfe199b2",
   "metadata": {},
   "source": [
    "# Largest Heading\n",
    "## second largest heading\n",
    "### third largest heading\n",
    "#### h4\n",
    "##### h5\n",
    "######  the smallest heading"
   ]
  },
  {
   "cell_type": "markdown",
   "id": "b3f8fcd1",
   "metadata": {},
   "source": [
    "### Styling text\n",
    "\n",
    "\n",
    "### **This is bold text**\n",
    "### *This is italic*\n",
    "###  ***This is both bold and italic***\n",
    "### ~~This is strike through~~ "
   ]
  },
  {
   "cell_type": "markdown",
   "id": "893cbead",
   "metadata": {},
   "source": [
    "### Unordered list\n",
    "\n",
    "* Cities\n",
    "\n",
    "* Vijayawada\n",
    "* Guntur\n",
    "* Tirupati\n",
    "* Ongole\n",
    "\n",
    "\n",
    "### Ordered list\n",
    "\n",
    "* Department\n",
    "\n",
    "1. ECE\n",
    "2. EEE\n",
    "3. CSE\n",
    "4. IT\n",
    "5. MECH\n",
    "6. Civil"
   ]
  },
  {
   "cell_type": "markdown",
   "id": "ad13c146",
   "metadata": {},
   "source": [
    "### Inserting a link\n",
    "\n",
    "* [Google.com](https://www.google.com)\n",
    "* [Gmail.com](https://www.gmail.com)\n",
    "* [Facebook](https://www.facebook.com)\n"
   ]
  },
  {
   "cell_type": "markdown",
   "id": "4a1c6f5b",
   "metadata": {},
   "source": [
    "### Creating link to an image\n",
    "\n",
    "[Python](python.jpg)"
   ]
  },
  {
   "cell_type": "markdown",
   "id": "0829baf3",
   "metadata": {},
   "source": [
    "### Adding image to markdown\n",
    "\n",
    "### <img src=\"python.jpg\" style=\"height:100px; weight:100px;\">"
   ]
  },
  {
   "cell_type": "code",
   "execution_count": 2,
   "id": "0e315ff5",
   "metadata": {},
   "outputs": [
    {
     "data": {
      "text/plain": [
       "'\\nMulti \\n    Line\\n        Comments\\n'"
      ]
     },
     "execution_count": 2,
     "metadata": {},
     "output_type": "execute_result"
    }
   ],
   "source": [
    "### comments\n",
    "\n",
    "# single line comment\n",
    "\"\"\"\n",
    "Multi \n",
    "    Line\n",
    "        Comments\n",
    "\"\"\""
   ]
  },
  {
   "cell_type": "code",
   "execution_count": 8,
   "id": "3b9edb4f",
   "metadata": {},
   "outputs": [
    {
     "name": "stdout",
     "output_type": "stream",
     "text": [
      "<class 'int'>\n",
      "<class 'float'>\n",
      "<class 'str'>\n",
      "<class 'bool'>\n"
     ]
    }
   ],
   "source": [
    "### Datatypes in python \n",
    "\n",
    "# int,float,string,bool\n",
    "\n",
    "a=23\n",
    "print(type(a))\n",
    "b=90.87\n",
    "print(type(b))\n",
    "c=\"mahesh\"\n",
    "print(type(c))\n",
    "d=True\n",
    "print(type(d))"
   ]
  },
  {
   "cell_type": "markdown",
   "id": "8a46a243",
   "metadata": {},
   "source": [
    "### Data structures in python\n",
    "\n",
    "* List\n",
    "* Tuple\n",
    "* Dictionary\n",
    "* Set"
   ]
  },
  {
   "cell_type": "markdown",
   "id": "9fd82542",
   "metadata": {},
   "source": [
    "### List\n",
    "\n",
    "* List is a collection of elements, creating by using square brackets []\n",
    "* List elements are seperated by commas\n",
    "* List is mutable i,e changeable"
   ]
  },
  {
   "cell_type": "code",
   "execution_count": 11,
   "id": "52c03e9b",
   "metadata": {},
   "outputs": [
    {
     "name": "stdout",
     "output_type": "stream",
     "text": [
      "[10, 20, 'python', 90.8]\n",
      "<class 'list'>\n"
     ]
    }
   ],
   "source": [
    "# Creating a list\n",
    "\n",
    "l=[10,20,\"python\",90.8]  # mixed data types\n",
    "print(l)\n",
    "print(type(l))"
   ]
  },
  {
   "cell_type": "code",
   "execution_count": 16,
   "id": "3fe11c3c",
   "metadata": {},
   "outputs": [
    {
     "name": "stdout",
     "output_type": "stream",
     "text": [
      "[10, 20, 30, 40, 50]\n",
      "<class 'list'>\n",
      "150\n",
      "50\n",
      "10\n",
      "5\n",
      "[10, 20, 30, 40, 50]\n",
      "[50, 40, 30, 20, 10]\n"
     ]
    }
   ],
   "source": [
    "l=[10,20,30,40,50]\n",
    "print(l)\n",
    "print(type(l))\n",
    "print(sum(l))   # sum of all elements of a list\n",
    "print(max(l))   # max element of a list\n",
    "print(min(l))   # min element of a list\n",
    "print(len(l))  # no of elements inside a list\n",
    "print(sorted(l))\n",
    "print(sorted(l,reverse=True))"
   ]
  },
  {
   "cell_type": "code",
   "execution_count": 17,
   "id": "bfc91276",
   "metadata": {},
   "outputs": [
    {
     "data": {
      "text/plain": [
       "[1, 2, 3, 4, 11, 12, 13, 14]"
      ]
     },
     "execution_count": 17,
     "metadata": {},
     "output_type": "execute_result"
    }
   ],
   "source": [
    "# Concatenation  +\n",
    "l1=[1,2,3,4]\n",
    "l2=[11,12,13,14]\n",
    "l1+l2"
   ]
  },
  {
   "cell_type": "code",
   "execution_count": 18,
   "id": "bdf5b8e4",
   "metadata": {},
   "outputs": [
    {
     "data": {
      "text/plain": [
       "[1, 2, 3, 1, 2, 3, 1, 2, 3]"
      ]
     },
     "execution_count": 18,
     "metadata": {},
     "output_type": "execute_result"
    }
   ],
   "source": [
    "# Repetition *\n",
    "\n",
    "l1=[1,2,3]\n",
    "l1*3"
   ]
  },
  {
   "cell_type": "code",
   "execution_count": 19,
   "id": "3b294f15",
   "metadata": {},
   "outputs": [
    {
     "name": "stdout",
     "output_type": "stream",
     "text": [
      "['__add__', '__class__', '__class_getitem__', '__contains__', '__delattr__', '__delitem__', '__dir__', '__doc__', '__eq__', '__format__', '__ge__', '__getattribute__', '__getitem__', '__gt__', '__hash__', '__iadd__', '__imul__', '__init__', '__init_subclass__', '__iter__', '__le__', '__len__', '__lt__', '__mul__', '__ne__', '__new__', '__reduce__', '__reduce_ex__', '__repr__', '__reversed__', '__rmul__', '__setattr__', '__setitem__', '__sizeof__', '__str__', '__subclasshook__', 'append', 'clear', 'copy', 'count', 'extend', 'index', 'insert', 'pop', 'remove', 'reverse', 'sort'] "
     ]
    }
   ],
   "source": [
    "print(dir(l),end=\" \")"
   ]
  },
  {
   "cell_type": "code",
   "execution_count": 21,
   "id": "629adc40",
   "metadata": {},
   "outputs": [
    {
     "name": "stdout",
     "output_type": "stream",
     "text": [
      "[111, 23, 45, 67, 89]\n"
     ]
    }
   ],
   "source": [
    "# append  -> to add element at the end of a list\n",
    "\n",
    "l=[111,23,45,67]\n",
    "l.append(89)\n",
    "print(l)"
   ]
  },
  {
   "cell_type": "code",
   "execution_count": 23,
   "id": "e27d1279",
   "metadata": {},
   "outputs": [
    {
     "data": {
      "text/plain": [
       "[10, 20, 30, [40, 50]]"
      ]
     },
     "execution_count": 23,
     "metadata": {},
     "output_type": "execute_result"
    }
   ],
   "source": [
    "l1=[10,20,30]\n",
    "l1.append([40,50])\n",
    "l1"
   ]
  },
  {
   "cell_type": "code",
   "execution_count": 22,
   "id": "283ed29d",
   "metadata": {},
   "outputs": [
    {
     "name": "stdout",
     "output_type": "stream",
     "text": [
      "[10, 20, 30]\n",
      "[40, 50, 60]\n",
      "[10, 20, 30, 40, 50, 60]\n",
      "[40, 50, 60]\n"
     ]
    }
   ],
   "source": [
    "# extend\n",
    "\n",
    "l1=[10,20,30]\n",
    "l2=[40,50,60]\n",
    "print(l1)\n",
    "print(l2)\n",
    "l1.extend(l2)  # add l2 elements into l1\n",
    "print(l1)\n",
    "print(l2)"
   ]
  },
  {
   "cell_type": "code",
   "execution_count": 28,
   "id": "03b8f82d",
   "metadata": {
    "collapsed": true
   },
   "outputs": [
    {
     "name": "stdout",
     "output_type": "stream",
     "text": [
      "33\n",
      "33\n",
      "10\n",
      "89\n"
     ]
    }
   ],
   "source": [
    "# indexing \n",
    "\n",
    "# forward index 0,1,2,\n",
    "# backward index -1,-2,-3..\n",
    "\n",
    "l=[10, 20, 33,45,89]\n",
    "#   0   1  2  3  4   # forward index\n",
    "#   -5 -4 -3  -2 -1  # backward index\n",
    "\n",
    "print(l[2])\n",
    "print(l[-3])\n",
    "print(l[0])  # to access 1st element of a list\n",
    "print(l[-1]) # to access last element of a list"
   ]
  },
  {
   "cell_type": "code",
   "execution_count": 35,
   "id": "d5c903a3",
   "metadata": {},
   "outputs": [
    {
     "name": "stdout",
     "output_type": "stream",
     "text": [
      "[40, 50, 60]\n",
      "[10, 30, 50, 70]\n",
      "[20, 40, 60, 80]\n"
     ]
    }
   ],
   "source": [
    "# slicing   [start:end:step]\n",
    "\n",
    "l=[10,20,30,40,50,60,70,80]\n",
    "# o/p : [40,50,60]\n",
    "\n",
    "print(l[3:5+1:1])\n",
    "print(l[::2])   # alternate elements\n",
    "print(l[1::2])"
   ]
  },
  {
   "cell_type": "code",
   "execution_count": 36,
   "id": "2c3f1cdc",
   "metadata": {},
   "outputs": [
    {
     "name": "stdout",
     "output_type": "stream",
     "text": [
      "[80, 70, 60, 50, 40, 30, 20, 10]\n"
     ]
    }
   ],
   "source": [
    "# reverse of a list\n",
    "print(l[::-1])"
   ]
  },
  {
   "cell_type": "code",
   "execution_count": 31,
   "id": "4fedd5b7",
   "metadata": {},
   "outputs": [
    {
     "name": "stdout",
     "output_type": "stream",
     "text": [
      "0 1 2 3 4 5 6 7 8 9 10 "
     ]
    }
   ],
   "source": [
    "for i in range(11):\n",
    "    print(i,end=\" \")"
   ]
  },
  {
   "cell_type": "code",
   "execution_count": 37,
   "id": "84c4ff85",
   "metadata": {},
   "outputs": [
    {
     "data": {
      "text/plain": [
       "3"
      ]
     },
     "execution_count": 37,
     "metadata": {},
     "output_type": "execute_result"
    }
   ],
   "source": [
    "# index\n",
    "\n",
    "l=[12,34,56,78,90,12,67]\n",
    "l.index(78)   # index "
   ]
  },
  {
   "cell_type": "code",
   "execution_count": 38,
   "id": "8d2e416e",
   "metadata": {},
   "outputs": [
    {
     "data": {
      "text/plain": [
       "2"
      ]
     },
     "execution_count": 38,
     "metadata": {},
     "output_type": "execute_result"
    }
   ],
   "source": [
    "l.count(12)"
   ]
  },
  {
   "cell_type": "code",
   "execution_count": 40,
   "id": "b577495c",
   "metadata": {},
   "outputs": [
    {
     "data": {
      "text/plain": [
       "1"
      ]
     },
     "execution_count": 40,
     "metadata": {},
     "output_type": "execute_result"
    }
   ],
   "source": [
    "l.count(90)"
   ]
  },
  {
   "cell_type": "code",
   "execution_count": 41,
   "id": "98308323",
   "metadata": {},
   "outputs": [
    {
     "data": {
      "text/plain": [
       "0"
      ]
     },
     "execution_count": 41,
     "metadata": {},
     "output_type": "execute_result"
    }
   ],
   "source": [
    "l.index(12)"
   ]
  },
  {
   "cell_type": "code",
   "execution_count": 44,
   "id": "41f0e41b",
   "metadata": {},
   "outputs": [
    {
     "name": "stdout",
     "output_type": "stream",
     "text": [
      "[12, 34, 56, 78]\n",
      "[12, 34, 200, 78]\n"
     ]
    }
   ],
   "source": [
    "# list is mutable\n",
    "\n",
    "l=[12,34,56,78]\n",
    "print(l)\n",
    "l[2]=200\n",
    "print(l)\n"
   ]
  },
  {
   "cell_type": "code",
   "execution_count": 45,
   "id": "e2ff9d12",
   "metadata": {},
   "outputs": [
    {
     "data": {
      "text/plain": [
       "[12, 34, 200, 78]"
      ]
     },
     "execution_count": 45,
     "metadata": {},
     "output_type": "execute_result"
    }
   ],
   "source": [
    "l"
   ]
  },
  {
   "cell_type": "code",
   "execution_count": 48,
   "id": "205c04f8",
   "metadata": {},
   "outputs": [
    {
     "data": {
      "text/plain": [
       "[90, 23, 12]"
      ]
     },
     "execution_count": 48,
     "metadata": {},
     "output_type": "execute_result"
    }
   ],
   "source": [
    "l=[12,23,90]\n",
    "l.reverse()\n",
    "l"
   ]
  },
  {
   "cell_type": "code",
   "execution_count": 49,
   "id": "1fba91e9",
   "metadata": {},
   "outputs": [
    {
     "data": {
      "text/plain": [
       "12"
      ]
     },
     "execution_count": 49,
     "metadata": {},
     "output_type": "execute_result"
    }
   ],
   "source": [
    "l.pop()"
   ]
  },
  {
   "cell_type": "code",
   "execution_count": 50,
   "id": "ed381ee8",
   "metadata": {},
   "outputs": [],
   "source": [
    "l.clear()"
   ]
  },
  {
   "cell_type": "code",
   "execution_count": 51,
   "id": "98939510",
   "metadata": {},
   "outputs": [
    {
     "data": {
      "text/plain": [
       "[]"
      ]
     },
     "execution_count": 51,
     "metadata": {},
     "output_type": "execute_result"
    }
   ],
   "source": [
    "l"
   ]
  },
  {
   "cell_type": "code",
   "execution_count": 52,
   "id": "38081373",
   "metadata": {},
   "outputs": [],
   "source": [
    "del l\n"
   ]
  },
  {
   "cell_type": "code",
   "execution_count": 53,
   "id": "600c5327",
   "metadata": {},
   "outputs": [
    {
     "ename": "NameError",
     "evalue": "name 'l' is not defined",
     "output_type": "error",
     "traceback": [
      "\u001b[1;31m---------------------------------------------------------------------------\u001b[0m",
      "\u001b[1;31mNameError\u001b[0m                                 Traceback (most recent call last)",
      "\u001b[1;32m~\\AppData\\Local\\Temp\\ipykernel_11488\\3723490112.py\u001b[0m in \u001b[0;36m<module>\u001b[1;34m\u001b[0m\n\u001b[1;32m----> 1\u001b[1;33m \u001b[0ml\u001b[0m\u001b[1;33m\u001b[0m\u001b[1;33m\u001b[0m\u001b[0m\n\u001b[0m",
      "\u001b[1;31mNameError\u001b[0m: name 'l' is not defined"
     ]
    }
   ],
   "source": [
    "l"
   ]
  },
  {
   "cell_type": "code",
   "execution_count": null,
   "id": "226169d6",
   "metadata": {},
   "outputs": [],
   "source": []
  }
 ],
 "metadata": {
  "kernelspec": {
   "display_name": "Python 3 (ipykernel)",
   "language": "python",
   "name": "python3"
  },
  "language_info": {
   "codemirror_mode": {
    "name": "ipython",
    "version": 3
   },
   "file_extension": ".py",
   "mimetype": "text/x-python",
   "name": "python",
   "nbconvert_exporter": "python",
   "pygments_lexer": "ipython3",
   "version": "3.9.13"
  }
 },
 "nbformat": 4,
 "nbformat_minor": 5
}
